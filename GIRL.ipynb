{
 "cells": [
  {
   "cell_type": "code",
   "execution_count": null,
   "metadata": {
    "scrolled": false
   },
   "outputs": [],
   "source": [
    "import gym\n",
    "import readchar\n",
    "import numpy as np"
   ]
  },
  {
   "cell_type": "code",
   "execution_count": null,
   "metadata": {},
   "outputs": [],
   "source": [
    "# # MACROS\n",
    "Push_Left = 0\n",
    "No_Push = 1\n",
    "Push_Right = 2\n",
    "\n",
    "# Key mapping\n",
    "arrow_keys = {\n",
    "    '\\x1b[D': Push_Left,\n",
    "    '\\x1b[B': No_Push,\n",
    "    '\\x1b[C': Push_Right}"
   ]
  },
  {
   "cell_type": "code",
   "execution_count": null,
   "metadata": {},
   "outputs": [],
   "source": [
    "env = gym.make('MountainCar-v0')"
   ]
  },
  {
   "cell_type": "code",
   "execution_count": null,
   "metadata": {},
   "outputs": [],
   "source": [
    "trajectories = []\n",
    "episode_step = 0"
   ]
  },
  {
   "cell_type": "code",
   "execution_count": null,
   "metadata": {},
   "outputs": [],
   "source": [
    "def generate_trajectories():\n",
    "    for episode in range(20): # n_trajectories : 20\n",
    "        trajectory = []\n",
    "        step = 0\n",
    "\n",
    "        env.reset()\n",
    "        print(\"episode_step\", episode_step)\n",
    "\n",
    "        while True: \n",
    "            env.render()\n",
    "            print(\"step\", step)\n",
    "\n",
    "            key = readchar.readkey()\n",
    "            if key not in arrow_keys.keys():\n",
    "                break\n",
    "\n",
    "            action = arrow_keys[key]\n",
    "            state, reward, done, _ = env.step(action)\n",
    "\n",
    "            if state[0] >= env.env.goal_position and step > 129: # trajectory_length : 130\n",
    "                break\n",
    "\n",
    "            trajectory.append((state[0], state[1], action))\n",
    "            step += 1\n",
    "\n",
    "        # trajectory_numpy = np.array(trajectory, float)\n",
    "        # print(\"trajectory_numpy.shape\", trajectory_numpy.shape)\n",
    "        # episode_step += 1\n",
    "        # trajectories.append(trajectory)\n",
    "\n",
    "    trajectories = np.array(trajectories, float)\n",
    "    print(\"np_trajectories.shape\", np_trajectories.shape)\n",
    "    np.save(\"expert_trajectories_1.npy\", arr= trajectories)\n",
    "    return trajectories\n",
    "\n"
   ]
  },
  {
   "cell_type": "code",
   "execution_count": null,
   "metadata": {},
   "outputs": [],
   "source": [
    "from cvxopt import matrix,solvers"
   ]
  },
  {
   "cell_type": "code",
   "execution_count": null,
   "metadata": {},
   "outputs": [],
   "source": [
    "def getRewards(gradient, features):\n",
    "    #Gram Matrix \n",
    "    P = matrix(np.dot(gradient.T, gradient))\n",
    "    q = matrix(np.zeros((features, 1)))\n",
    "    \n",
    "    #Summation of Alpha = 1\n",
    "    A = matrix(np.ones((1, features)))\n",
    "    b = matrix(-np.ones((1, 1)))\n",
    "\n",
    "    res = solvers.qp(P, q, A=A, b=b)\n",
    "    return np.array(res['x']).ravel()"
   ]
  },
  {
   "cell_type": "code",
   "execution_count": null,
   "metadata": {},
   "outputs": [],
   "source": []
  },
  {
   "cell_type": "code",
   "execution_count": null,
   "metadata": {},
   "outputs": [],
   "source": [
    "rewardParams = getRewards(gradient_matrix,4)"
   ]
  },
  {
   "cell_type": "code",
   "execution_count": null,
   "metadata": {},
   "outputs": [],
   "source": [
    "print(rewardParams)"
   ]
  },
  {
   "cell_type": "code",
   "execution_count": null,
   "metadata": {},
   "outputs": [],
   "source": []
  }
 ],
 "metadata": {
  "kernelspec": {
   "display_name": "Python 3",
   "language": "python",
   "name": "python3"
  },
  "language_info": {
   "codemirror_mode": {
    "name": "ipython",
    "version": 3
   },
   "file_extension": ".py",
   "mimetype": "text/x-python",
   "name": "python",
   "nbconvert_exporter": "python",
   "pygments_lexer": "ipython3",
   "version": "3.5.2"
  }
 },
 "nbformat": 4,
 "nbformat_minor": 2
}
